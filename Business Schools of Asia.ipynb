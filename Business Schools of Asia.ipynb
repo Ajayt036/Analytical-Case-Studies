{
 "cells": [
  {
   "cell_type": "markdown",
   "id": "63440320",
   "metadata": {},
   "source": [
    "## Business Schools of Asia Pacific\n",
    "\n",
    "The pursuit of a higher education degree in business is now international. A survey shows\n",
    "that more and more Asians choose the master of business administration (MBA) degree\n",
    "route to corporate success. As a result, the number of applicants for MBA courses at\n",
    "Asia-Paci!c schools continues to increase.\n",
    "\n",
    "Across the region, thousands of Asians show an increasing willingness to temporarily\n",
    "shelve their careers and spend two years in pursuit of a theoretical business quali!cation.\n",
    "\n",
    "Courses in these schools are notoriously tough and include economics, banking, marketing,\n",
    "behavioral sciences, labor relations, decision making, strategic thinking, business law, and\n",
    "more. The data collected is available to see some of the characteristics of the leading Asia-Paci!c\n",
    "business schools."
   ]
  },
  {
   "cell_type": "code",
   "execution_count": 5,
   "id": "b9a12aee",
   "metadata": {},
   "outputs": [],
   "source": [
    "#Install important basic libraries\n",
    "import pandas as pd\n",
    "import matplotlib.pyplot as plt\n",
    "import seaborn as sns\n",
    "%matplotlib inline"
   ]
  },
  {
   "cell_type": "code",
   "execution_count": 7,
   "id": "88718572",
   "metadata": {},
   "outputs": [
    {
     "name": "stdout",
     "output_type": "stream",
     "text": [
      "(25, 11)\n"
     ]
    },
    {
     "data": {
      "text/html": [
       "<div>\n",
       "<style scoped>\n",
       "    .dataframe tbody tr th:only-of-type {\n",
       "        vertical-align: middle;\n",
       "    }\n",
       "\n",
       "    .dataframe tbody tr th {\n",
       "        vertical-align: top;\n",
       "    }\n",
       "\n",
       "    .dataframe thead th {\n",
       "        text-align: right;\n",
       "    }\n",
       "</style>\n",
       "<table border=\"1\" class=\"dataframe\">\n",
       "  <thead>\n",
       "    <tr style=\"text-align: right;\">\n",
       "      <th></th>\n",
       "      <th>Business School</th>\n",
       "      <th>Full-Time Enrollment</th>\n",
       "      <th>Students per Faculty</th>\n",
       "      <th>Local Tuition ($)</th>\n",
       "      <th>Foreign Tuitiion ($)</th>\n",
       "      <th>Age</th>\n",
       "      <th>%Foreign</th>\n",
       "      <th>GMAT</th>\n",
       "      <th>English Test</th>\n",
       "      <th>Work Experience</th>\n",
       "      <th>Starting Salary ($)</th>\n",
       "    </tr>\n",
       "  </thead>\n",
       "  <tbody>\n",
       "    <tr>\n",
       "      <th>0</th>\n",
       "      <td>Melbourne Business School</td>\n",
       "      <td>200</td>\n",
       "      <td>5</td>\n",
       "      <td>24420</td>\n",
       "      <td>29600</td>\n",
       "      <td>28</td>\n",
       "      <td>47.0</td>\n",
       "      <td>Yes</td>\n",
       "      <td>No</td>\n",
       "      <td>Yes</td>\n",
       "      <td>71400</td>\n",
       "    </tr>\n",
       "    <tr>\n",
       "      <th>1</th>\n",
       "      <td>University of New South Wales (Sydney)</td>\n",
       "      <td>228</td>\n",
       "      <td>4</td>\n",
       "      <td>19993</td>\n",
       "      <td>32582</td>\n",
       "      <td>29</td>\n",
       "      <td>28.0</td>\n",
       "      <td>Yes</td>\n",
       "      <td>No</td>\n",
       "      <td>Yes</td>\n",
       "      <td>65200</td>\n",
       "    </tr>\n",
       "    <tr>\n",
       "      <th>2</th>\n",
       "      <td>Indian Institute of Management (Ahmedabad)</td>\n",
       "      <td>392</td>\n",
       "      <td>5</td>\n",
       "      <td>4300</td>\n",
       "      <td>4300</td>\n",
       "      <td>22</td>\n",
       "      <td>0.0</td>\n",
       "      <td>No</td>\n",
       "      <td>No</td>\n",
       "      <td>No</td>\n",
       "      <td>7100</td>\n",
       "    </tr>\n",
       "  </tbody>\n",
       "</table>\n",
       "</div>"
      ],
      "text/plain": [
       "                              Business School  Full-Time Enrollment  \\\n",
       "0                   Melbourne Business School                   200   \n",
       "1      University of New South Wales (Sydney)                   228   \n",
       "2  Indian Institute of Management (Ahmedabad)                   392   \n",
       "\n",
       "   Students per Faculty  Local Tuition ($)  Foreign Tuitiion ($)  Age  \\\n",
       "0                     5              24420                 29600   28   \n",
       "1                     4              19993                 32582   29   \n",
       "2                     5               4300                  4300   22   \n",
       "\n",
       "   %Foreign GMAT English Test Work Experience  Starting Salary ($)  \n",
       "0      47.0  Yes           No             Yes                71400  \n",
       "1      28.0  Yes           No             Yes                65200  \n",
       "2       0.0   No           No              No                 7100  "
      ]
     },
     "execution_count": 7,
     "metadata": {},
     "output_type": "execute_result"
    }
   ],
   "source": [
    "#Lets see first cut of data:\n",
    "schools = pd.read_excel(\"AsiaMBA.xlsx\")\n",
    "print(schools.shape)\n",
    "schools.head(3)"
   ]
  },
  {
   "cell_type": "code",
   "execution_count": 9,
   "id": "78acffee",
   "metadata": {},
   "outputs": [
    {
     "data": {
      "text/html": [
       "<div>\n",
       "<style scoped>\n",
       "    .dataframe tbody tr th:only-of-type {\n",
       "        vertical-align: middle;\n",
       "    }\n",
       "\n",
       "    .dataframe tbody tr th {\n",
       "        vertical-align: top;\n",
       "    }\n",
       "\n",
       "    .dataframe thead th {\n",
       "        text-align: right;\n",
       "    }\n",
       "</style>\n",
       "<table border=\"1\" class=\"dataframe\">\n",
       "  <thead>\n",
       "    <tr style=\"text-align: right;\">\n",
       "      <th></th>\n",
       "      <th>Full-Time Enrollment</th>\n",
       "      <th>Students per Faculty</th>\n",
       "      <th>Local Tuition ($)</th>\n",
       "      <th>Foreign Tuitiion ($)</th>\n",
       "      <th>Age</th>\n",
       "      <th>%Foreign</th>\n",
       "      <th>Starting Salary ($)</th>\n",
       "    </tr>\n",
       "  </thead>\n",
       "  <tbody>\n",
       "    <tr>\n",
       "      <th>count</th>\n",
       "      <td>25.000000</td>\n",
       "      <td>25.000000</td>\n",
       "      <td>25.00000</td>\n",
       "      <td>25.000000</td>\n",
       "      <td>25.000000</td>\n",
       "      <td>25.000000</td>\n",
       "      <td>25.000000</td>\n",
       "    </tr>\n",
       "    <tr>\n",
       "      <th>mean</th>\n",
       "      <td>165.160000</td>\n",
       "      <td>8.480000</td>\n",
       "      <td>12374.92000</td>\n",
       "      <td>16581.800000</td>\n",
       "      <td>28.360000</td>\n",
       "      <td>28.080000</td>\n",
       "      <td>37292.000000</td>\n",
       "    </tr>\n",
       "    <tr>\n",
       "      <th>std</th>\n",
       "      <td>140.841128</td>\n",
       "      <td>5.058985</td>\n",
       "      <td>7778.42348</td>\n",
       "      <td>9134.846012</td>\n",
       "      <td>3.784618</td>\n",
       "      <td>25.008615</td>\n",
       "      <td>23459.254038</td>\n",
       "    </tr>\n",
       "    <tr>\n",
       "      <th>min</th>\n",
       "      <td>12.000000</td>\n",
       "      <td>2.000000</td>\n",
       "      <td>1000.00000</td>\n",
       "      <td>1000.000000</td>\n",
       "      <td>22.000000</td>\n",
       "      <td>0.000000</td>\n",
       "      <td>7000.000000</td>\n",
       "    </tr>\n",
       "    <tr>\n",
       "      <th>25%</th>\n",
       "      <td>44.000000</td>\n",
       "      <td>5.000000</td>\n",
       "      <td>6146.00000</td>\n",
       "      <td>9000.000000</td>\n",
       "      <td>25.000000</td>\n",
       "      <td>6.000000</td>\n",
       "      <td>16000.000000</td>\n",
       "    </tr>\n",
       "    <tr>\n",
       "      <th>50%</th>\n",
       "      <td>126.000000</td>\n",
       "      <td>7.000000</td>\n",
       "      <td>11513.00000</td>\n",
       "      <td>17765.000000</td>\n",
       "      <td>29.000000</td>\n",
       "      <td>27.000000</td>\n",
       "      <td>41400.000000</td>\n",
       "    </tr>\n",
       "    <tr>\n",
       "      <th>75%</th>\n",
       "      <td>240.000000</td>\n",
       "      <td>13.000000</td>\n",
       "      <td>17172.00000</td>\n",
       "      <td>22500.000000</td>\n",
       "      <td>30.000000</td>\n",
       "      <td>43.000000</td>\n",
       "      <td>52500.000000</td>\n",
       "    </tr>\n",
       "    <tr>\n",
       "      <th>max</th>\n",
       "      <td>463.000000</td>\n",
       "      <td>19.000000</td>\n",
       "      <td>33060.00000</td>\n",
       "      <td>33060.000000</td>\n",
       "      <td>37.000000</td>\n",
       "      <td>90.000000</td>\n",
       "      <td>87000.000000</td>\n",
       "    </tr>\n",
       "  </tbody>\n",
       "</table>\n",
       "</div>"
      ],
      "text/plain": [
       "       Full-Time Enrollment  Students per Faculty  Local Tuition ($)  \\\n",
       "count             25.000000             25.000000           25.00000   \n",
       "mean             165.160000              8.480000        12374.92000   \n",
       "std              140.841128              5.058985         7778.42348   \n",
       "min               12.000000              2.000000         1000.00000   \n",
       "25%               44.000000              5.000000         6146.00000   \n",
       "50%              126.000000              7.000000        11513.00000   \n",
       "75%              240.000000             13.000000        17172.00000   \n",
       "max              463.000000             19.000000        33060.00000   \n",
       "\n",
       "       Foreign Tuitiion ($)        Age   %Foreign  Starting Salary ($)  \n",
       "count             25.000000  25.000000  25.000000            25.000000  \n",
       "mean           16581.800000  28.360000  28.080000         37292.000000  \n",
       "std             9134.846012   3.784618  25.008615         23459.254038  \n",
       "min             1000.000000  22.000000   0.000000          7000.000000  \n",
       "25%             9000.000000  25.000000   6.000000         16000.000000  \n",
       "50%            17765.000000  29.000000  27.000000         41400.000000  \n",
       "75%            22500.000000  30.000000  43.000000         52500.000000  \n",
       "max            33060.000000  37.000000  90.000000         87000.000000  "
      ]
     },
     "execution_count": 9,
     "metadata": {},
     "output_type": "execute_result"
    }
   ],
   "source": [
    "#Since many columns are quantative. Lets look at summary of each of these columns\n",
    "schools.describe()"
   ]
  },
  {
   "cell_type": "code",
   "execution_count": 47,
   "id": "7f87b874",
   "metadata": {},
   "outputs": [
    {
     "name": "stdout",
     "output_type": "stream",
     "text": [
      "Lahore University of Management Sciences has the biggest difference\n"
     ]
    },
    {
     "data": {
      "text/html": [
       "<div>\n",
       "<style scoped>\n",
       "    .dataframe tbody tr th:only-of-type {\n",
       "        vertical-align: middle;\n",
       "    }\n",
       "\n",
       "    .dataframe tbody tr th {\n",
       "        vertical-align: top;\n",
       "    }\n",
       "\n",
       "    .dataframe thead th {\n",
       "        text-align: right;\n",
       "    }\n",
       "</style>\n",
       "<table border=\"1\" class=\"dataframe\">\n",
       "  <thead>\n",
       "    <tr style=\"text-align: right;\">\n",
       "      <th></th>\n",
       "      <th>Business School</th>\n",
       "      <th>Full-Time Enrollment</th>\n",
       "      <th>Students per Faculty</th>\n",
       "      <th>Local Tuition ($)</th>\n",
       "      <th>Foreign Tuitiion ($)</th>\n",
       "      <th>Age</th>\n",
       "      <th>%Foreign</th>\n",
       "      <th>GMAT</th>\n",
       "      <th>English Test</th>\n",
       "      <th>Work Experience</th>\n",
       "      <th>Starting Salary ($)</th>\n",
       "      <th>Tution Difference</th>\n",
       "    </tr>\n",
       "  </thead>\n",
       "  <tbody>\n",
       "    <tr>\n",
       "      <th>22</th>\n",
       "      <td>Lahore University of Management Sciences</td>\n",
       "      <td>70</td>\n",
       "      <td>14</td>\n",
       "      <td>11250</td>\n",
       "      <td>26300</td>\n",
       "      <td>23</td>\n",
       "      <td>2.5</td>\n",
       "      <td>No</td>\n",
       "      <td>No</td>\n",
       "      <td>No</td>\n",
       "      <td>7500</td>\n",
       "      <td>15050</td>\n",
       "    </tr>\n",
       "  </tbody>\n",
       "</table>\n",
       "</div>"
      ],
      "text/plain": [
       "                             Business School  Full-Time Enrollment  \\\n",
       "22  Lahore University of Management Sciences                    70   \n",
       "\n",
       "    Students per Faculty  Local Tuition ($)  Foreign Tuitiion ($)  Age  \\\n",
       "22                    14              11250                 26300   23   \n",
       "\n",
       "    %Foreign GMAT English Test Work Experience  Starting Salary ($)  \\\n",
       "22       2.5   No           No              No                 7500   \n",
       "\n",
       "    Tution Difference  \n",
       "22              15050  "
      ]
     },
     "execution_count": 47,
     "metadata": {},
     "output_type": "execute_result"
    }
   ],
   "source": [
    "#Lets See which schools has the meximun tution difference for foreigner vs Local students\n",
    "schools[\"Tution Difference\"] = schools[\"Foreign Tuitiion ($)\"] - schools[\"Local Tuition ($)\"]\n",
    "\n",
    "print(\"Lahore University of Management Sciences has the biggest difference\")\n",
    "schools[schools[\"Tution Difference\"] == schools[\"Tution Difference\"].max()]"
   ]
  },
  {
   "cell_type": "code",
   "execution_count": 48,
   "id": "74efb9db",
   "metadata": {},
   "outputs": [
    {
     "data": {
      "image/png": "[encoded data removed]",
      "text/plain": [
       "<Figure size 432x288 with 1 Axes>"
      ]
     },
     "metadata": {
      "needs_background": "light"
     },
     "output_type": "display_data"
    },
    {
     "name": "stdout",
     "output_type": "stream",
     "text": [
      "We can clearly see stidents with no Expierence earn less than those who have\n"
     ]
    }
   ],
   "source": [
    "#Lets see of Work Experince make any impact on salary\n",
    "schools.boxplot(\"Starting Salary ($)\", \"Work Experience\")\n",
    "plt.title(\"\")\n",
    "plt.ylabel(\"Salary\")\n",
    "plt.show()\n",
    "\n",
    "print(\"We can clearly see stidents with no Expierence earn less than those who have\")\n"
   ]
  },
  {
   "cell_type": "code",
   "execution_count": 53,
   "id": "ff8b6207",
   "metadata": {},
   "outputs": [
    {
     "data": {
      "image/png": "[encoded data removed]",
      "text/plain": [
       "<Figure size 432x288 with 1 Axes>"
      ]
     },
     "metadata": {
      "needs_background": "light"
     },
     "output_type": "display_data"
    },
    {
     "name": "stdout",
     "output_type": "stream",
     "text": [
      "- We can observe see B schools with Reuired Wnglish test has higher average salary than non required \n",
      "- But we can also Non-English required colleges has the highest salary package to the surprise \n",
      "- So in a way A Test will lead you to better salary, because no test students has very less salary also\n"
     ]
    }
   ],
   "source": [
    "#similarly lets see Wwether English Test Requirment by B-Schools make any impact on salary\n",
    "schools.boxplot(\"Starting Salary ($)\", \"English Test\")\n",
    "plt.title(\"\")\n",
    "plt.ylabel(\"Salary\")\n",
    "plt.show()\n",
    "\n",
    "print(\"- We can observe see B schools with Reuired Wnglish test has higher average salary than non required\",\"\\n\"\n",
    "      \"- But we can also Non-English required colleges has the highest salary package to the surprise\",\"\\n\"\n",
    "      \"- So in a way A Test will lead you to better salary, because no test students has very less salary also\")"
   ]
  },
  {
   "cell_type": "code",
   "execution_count": 60,
   "id": "86ed28ed",
   "metadata": {},
   "outputs": [
    {
     "data": {
      "image/png": "[encoded data removed]",
      "text/plain": [
       "<Figure size 432x288 with 1 Axes>"
      ]
     },
     "metadata": {
      "needs_background": "light"
     },
     "output_type": "display_data"
    },
    {
     "name": "stdout",
     "output_type": "stream",
     "text": [
      "We can clearly observe a positive linear correlation b/w salary and Tution\n"
     ]
    }
   ],
   "source": [
    "#Lets see the return on inverstment indicator for the Schools.\n",
    "sns.scatterplot(x=\"Starting Salary ($)\", y=\"Local Tuition ($)\", data = schools, color = \"b\")\n",
    "sns.scatterplot(x=\"Starting Salary ($)\", y=\"Foreign Tuitiion ($)\", data = schools, color = \"y\")\n",
    "plt.title(\"Salary vs Tution(Yellow =Foriegn, Blue = Local)\")\n",
    "plt.show()\n",
    "print(\"We can clearly observe a positive linear correlation b/w salary and Tution\")"
   ]
  },
  {
   "cell_type": "markdown",
   "id": "d8243b9b",
   "metadata": {},
   "source": [
    "________________________________________________________________________________________________________________"
   ]
  },
  {
   "cell_type": "markdown",
   "id": "589ac653",
   "metadata": {},
   "source": [
    "DataSet Source: \"Statistics for Bussiness and Economics\""
   ]
  }
 ],
 "metadata": {
  "kernelspec": {
   "display_name": "Python 3 (ipykernel)",
   "language": "python",
   "name": "python3"
  },
  "language_info": {
   "codemirror_mode": {
    "name": "ipython",
    "version": 3
   },
   "file_extension": ".py",
   "mimetype": "text/x-python",
   "name": "python",
   "nbconvert_exporter": "python",
   "pygments_lexer": "ipython3",
   "version": "3.8.8"
  }
 },
 "nbformat": 4,
 "nbformat_minor": 5
}
